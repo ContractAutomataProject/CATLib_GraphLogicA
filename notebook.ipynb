{
 "cells": [
  {
   "cell_type": "markdown",
   "metadata": {},
   "source": [
    "# Setup"
   ]
  },
  {
   "cell_type": "code",
   "execution_count": 1,
   "metadata": {},
   "outputs": [],
   "source": [
    "import voxlogica\n",
    "import os\n",
    "import matplotlib.pyplot as plt\n",
    "import matplotlib.image as mpimg\n",
    "import json\n",
    "import os.path\n",
    "\n",
    "baseimage = './src/test/java/io/github/contractautomata/maze/resources/maze3.png'\n",
    "datadir = './src/test/java/io/github/contractautomata/maze/resources/twoagentsimages/png'\n",
    "images = [fname for fname in os.listdir(datadir) if fname.endswith(\".png\")]\n",
    "tmpdir = \"./tmp\"\n",
    "cache = \"./cache.json\""
   ]
  },
  {
   "cell_type": "markdown",
   "metadata": {},
   "source": [
    "# Result computation and auxiliary function \"view\""
   ]
  },
  {
   "cell_type": "code",
   "execution_count": 2,
   "metadata": {},
   "outputs": [],
   "source": [
    "def run_analysis(specification,image):\n",
    "    print(f'Analysing {image}... ', end='')\n",
    "    res = voxlogica.run_voxlogica(specification(image))\n",
    "    print('done')\n",
    "    return res\n",
    "\n",
    "\n",
    "def compute(specification,start=0,end=len(images)-1):\n",
    "    voxlogica_output = [\n",
    "        {\"filename\": image, \"output\": run_analysis(specification,image)} for image in images[start:end+1]]\n",
    "\n",
    "    # %%\n",
    "    return voxlogica.simplify_results(voxlogica_output)\n",
    "# %%\n",
    "\n",
    "\n",
    "def view(result,rows = 5,cols = 5,sizex = 20,sizey = 20):\n",
    "    fname = result[\"filename\"]\n",
    "    plt.figure(figsize=(sizex,sizey))\n",
    "    img = mpimg.imread(f'{datadir}/{fname}')\n",
    "    ax=plt.subplot(rows,cols,1)\n",
    "    ax.set_title(\"model\")\n",
    "    plt.imshow(img)\n",
    "    i=2\n",
    "    toprint = {}\n",
    "    for (key,value) in result[\"results\"].items():\n",
    "        if isinstance(value,(int,float)):\n",
    "            toprint[key] = value\n",
    "            #toprint.append(f'{key}: {value}')            \n",
    "        else:\n",
    "            fmla = f'{key.removeprefix(fname+\"_\")}'\n",
    "            img = mpimg.imread(f'{tmpdir}/{value[\"filename\"]}')            \n",
    "            ax = plt.subplot(rows,cols,i)    # the number of images in the grid is 5*5 (25)    \n",
    "            ax.set_title(fmla)\n",
    "            plt.imshow(img,cmap=\"Greys_r\")\n",
    "            i = i+1            \n",
    "    plt.show()     \n",
    "    print(toprint)           "
   ]
  },
  {
   "cell_type": "markdown",
   "metadata": {},
   "source": [
    "# Specification and analysis"
   ]
  },
  {
   "cell_type": "code",
   "execution_count": 3,
   "metadata": {},
   "outputs": [],
   "source": [
    "def vlsave(image,var):\n",
    "    return f'save \"{tmpdir}/{image}_{var}.png\" {var}'\n",
    "\n",
    "def vlprint(var):\n",
    "    return f'print \"{var}\" {var}'\n",
    "\n",
    "def specification(image):\n",
    "    return f'''\n",
    "\n",
    "load base =\"{baseimage}\"\n",
    "\n",
    "load img = \"{datadir}/{image}\"\n",
    "let r = red(img)\n",
    "let g = green(img)\n",
    "let b = blue(img)\n",
    "let rb = red(base)\n",
    "let gb = green(base)\n",
    "let bb = blue(base)\n",
    "\n",
    "let exists(p) = volume(p) .>. 0\n",
    "let forall(p) = volume(p) .=. volume(tt)\n",
    "let forallin(x,p) = forall( (!x) | p)\n",
    "\n",
    "let door = (r =. 0) & (b =. 255) & (g =. 0)\n",
    "let floorNoDoor = (rb =. 255) & (bb =. 255) & (gb =. 255)\n",
    "let floor = floorNoDoor & (!door)\n",
    "let wall = !floor\n",
    "\n",
    "\n",
    "let mrRed = (r =. 255) & (b =. 0) & (g =. 0)\n",
    "let mrGreen = (r =. 0) & (b =. 0) & (g =. 255)\n",
    "\n",
    "let mrX = mrRed | mrGreen\n",
    "\n",
    "let wrong = exists(mrX & wall)\n",
    "let exit = (x =. 9) & (y >. 2) & (y <. 9)\n",
    "let pathToExit = (floor ~> exit)\n",
    "let canExit(mr) = forallin(mr,pathToExit)\n",
    "let sameRoom = forallin(mrGreen,(mrGreen|floor) ~> mrRed)\n",
    "\n",
    "let greenEscapes = (!.wrong) .&. canExit(mrGreen) .&. (!.(canExit(mrRed)))\n",
    "let nearby = exists(mrRed & (N N mrGreen))\n",
    "\n",
    "{vlprint(\"canExit(mrGreen)\")}\n",
    "{vlprint(\"wrong\")}\n",
    "{vlprint(\"sameRoom\")}\n",
    "{vlprint(\"greenEscapes\")}\n",
    "{vlprint(\"nearby\")}\n",
    "{vlsave(image,\"door\")}\n",
    "{vlsave(image,\"exit\")}\n",
    "{vlsave(image,\"mrRed\")}\n",
    "{vlsave(image,\"mrGreen\")}\n",
    "{vlsave(image,\"pathToExit\")}\n",
    "\n",
    "\n",
    "'''\n",
    "items = []\n",
    "if (os.path.exists(cache)):    \n",
    "    with open(cache) as f:\n",
    "        items = json.load(f)\n",
    "else:\n",
    "    items = compute(specification)\n",
    "    with open(cache, 'w') as f:\n",
    "        json.dump(items, f)    \n"
   ]
  },
  {
   "cell_type": "code",
   "execution_count": 6,
   "metadata": {},
   "outputs": [],
   "source": [
    "ok = [item for item in items if not item[\"results\"][\"wrong\"] ]"
   ]
  },
  {
   "cell_type": "code",
   "execution_count": 7,
   "metadata": {},
   "outputs": [
    {
     "data": {
      "text/plain": [
       "3362"
      ]
     },
     "execution_count": 7,
     "metadata": {},
     "output_type": "execute_result"
    }
   ],
   "source": [
    "len(ok)"
   ]
  },
  {
   "cell_type": "code",
   "execution_count": 9,
   "metadata": {},
   "outputs": [],
   "source": [
    "escape = [item for item in items if item[\"results\"][\"greenEscapes\"] ]"
   ]
  },
  {
   "cell_type": "code",
   "execution_count": 10,
   "metadata": {},
   "outputs": [
    {
     "data": {
      "text/plain": [
       "378"
      ]
     },
     "execution_count": 10,
     "metadata": {},
     "output_type": "execute_result"
    }
   ],
   "source": [
    "len(escape)"
   ]
  },
  {
   "cell_type": "code",
   "execution_count": 11,
   "metadata": {},
   "outputs": [
    {
     "data": {
      "image/png": "[encoded data removed]",
      "text/plain": [
       "<Figure size 1440x1440 with 6 Axes>"
      ]
     },
     "metadata": {
      "needs_background": "light"
     },
     "output_type": "display_data"
    },
    {
     "name": "stdout",
     "output_type": "stream",
     "text": [
      "{'wrong': False, 'nearby': False, 'sameRoom': True, 'canExit(mrGreen)': True, 'greenEscapes': True}\n"
     ]
    }
   ],
   "source": [
    "view(escape[0])"
   ]
  }
 ],
 "metadata": {
  "interpreter": {
   "hash": "31f2aee4e71d21fbe5cf8b01ff0e069b9275f58929596ceb00d14d90e3e16cd6"
  },
  "kernelspec": {
   "display_name": "Python 3.9.7 64-bit",
   "language": "python",
   "name": "python3"
  },
  "language_info": {
   "codemirror_mode": {
    "name": "ipython",
    "version": 3
   },
   "file_extension": ".py",
   "mimetype": "text/x-python",
   "name": "python",
   "nbconvert_exporter": "python",
   "pygments_lexer": "ipython3",
   "version": "3.9.7"
  },
  "orig_nbformat": 4
 },
 "nbformat": 4,
 "nbformat_minor": 2
}
